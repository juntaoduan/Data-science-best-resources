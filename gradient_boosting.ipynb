{
  "metadata": {
    "kernelspec": {
      "language": "python",
      "display_name": "Python 3",
      "name": "python3"
    },
    "language_info": {
      "name": "python",
      "version": "3.6.6",
      "mimetype": "text/x-python",
      "codemirror_mode": {
        "name": "ipython",
        "version": 3
      },
      "pygments_lexer": "ipython3",
      "nbconvert_exporter": "python",
      "file_extension": ".py"
    },
    "colab": {
      "name": "gradient-boosting.ipynb",
      "provenance": [],
      "include_colab_link": true
    }
  },
  "nbformat_minor": 0,
  "nbformat": 4,
  "cells": [
    {
      "cell_type": "markdown",
      "metadata": {
        "id": "view-in-github",
        "colab_type": "text"
      },
      "source": [
        "<a href=\"https://colab.research.google.com/github/juntaoduan/Data-science-best-resources/blob/master/gradient_boosting.ipynb\" target=\"_parent\"><img src=\"https://colab.research.google.com/assets/colab-badge.svg\" alt=\"Open In Colab\"/></a>"
      ]
    },
    {
      "cell_type": "markdown",
      "source": [
        "**Libraries and Data**"
      ],
      "metadata": {
        "id": "020mBJTsnebN"
      }
    },
    {
      "cell_type": "code",
      "source": [
        "!wget https://raw.githubusercontent.com/juntaoduan/Machine-Learning-with-Python/master/Datasets/UniversalBank.csv"
      ],
      "metadata": {
        "colab": {
          "base_uri": "https://localhost:8080/"
        },
        "id": "v2J1e6a3quCn",
        "outputId": "ec045dc3-a5f7-48bf-dea2-f6cbf01b777f"
      },
      "execution_count": 1,
      "outputs": [
        {
          "output_type": "stream",
          "name": "stdout",
          "text": [
            "--2022-03-17 15:43:55--  https://raw.githubusercontent.com/juntaoduan/Machine-Learning-with-Python/master/Datasets/UniversalBank.csv\n",
            "Resolving raw.githubusercontent.com (raw.githubusercontent.com)... 185.199.108.133, 185.199.109.133, 185.199.110.133, ...\n",
            "Connecting to raw.githubusercontent.com (raw.githubusercontent.com)|185.199.108.133|:443... connected.\n",
            "HTTP request sent, awaiting response... 200 OK\n",
            "Length: 205669 (201K) [text/plain]\n",
            "Saving to: ‘UniversalBank.csv’\n",
            "\n",
            "UniversalBank.csv   100%[===================>] 200.85K  --.-KB/s    in 0.05s   \n",
            "\n",
            "2022-03-17 15:43:55 (4.11 MB/s) - ‘UniversalBank.csv’ saved [205669/205669]\n",
            "\n"
          ]
        }
      ]
    },
    {
      "cell_type": "code",
      "source": [
        "pip install scikit-plot"
      ],
      "metadata": {
        "colab": {
          "base_uri": "https://localhost:8080/"
        },
        "id": "IFZ4Fs_nq6Jj",
        "outputId": "b046da77-1fad-4da8-9e70-cfe68e25ee14"
      },
      "execution_count": 2,
      "outputs": [
        {
          "output_type": "stream",
          "name": "stdout",
          "text": [
            "Collecting scikit-plot\n",
            "  Downloading scikit_plot-0.3.7-py3-none-any.whl (33 kB)\n",
            "Requirement already satisfied: scikit-learn>=0.18 in /usr/local/lib/python3.7/dist-packages (from scikit-plot) (1.0.2)\n",
            "Requirement already satisfied: joblib>=0.10 in /usr/local/lib/python3.7/dist-packages (from scikit-plot) (1.1.0)\n",
            "Requirement already satisfied: scipy>=0.9 in /usr/local/lib/python3.7/dist-packages (from scikit-plot) (1.4.1)\n",
            "Requirement already satisfied: matplotlib>=1.4.0 in /usr/local/lib/python3.7/dist-packages (from scikit-plot) (3.2.2)\n",
            "Requirement already satisfied: python-dateutil>=2.1 in /usr/local/lib/python3.7/dist-packages (from matplotlib>=1.4.0->scikit-plot) (2.8.2)\n",
            "Requirement already satisfied: numpy>=1.11 in /usr/local/lib/python3.7/dist-packages (from matplotlib>=1.4.0->scikit-plot) (1.21.5)\n",
            "Requirement already satisfied: pyparsing!=2.0.4,!=2.1.2,!=2.1.6,>=2.0.1 in /usr/local/lib/python3.7/dist-packages (from matplotlib>=1.4.0->scikit-plot) (3.0.7)\n",
            "Requirement already satisfied: kiwisolver>=1.0.1 in /usr/local/lib/python3.7/dist-packages (from matplotlib>=1.4.0->scikit-plot) (1.3.2)\n",
            "Requirement already satisfied: cycler>=0.10 in /usr/local/lib/python3.7/dist-packages (from matplotlib>=1.4.0->scikit-plot) (0.11.0)\n",
            "Requirement already satisfied: six>=1.5 in /usr/local/lib/python3.7/dist-packages (from python-dateutil>=2.1->matplotlib>=1.4.0->scikit-plot) (1.15.0)\n",
            "Requirement already satisfied: threadpoolctl>=2.0.0 in /usr/local/lib/python3.7/dist-packages (from scikit-learn>=0.18->scikit-plot) (3.1.0)\n",
            "Installing collected packages: scikit-plot\n",
            "Successfully installed scikit-plot-0.3.7\n"
          ]
        }
      ]
    },
    {
      "cell_type": "code",
      "source": [
        "import numpy as np\n",
        "import pandas as pd\n",
        "from matplotlib import pyplot as plt\n",
        "\n",
        "import sklearn\n",
        "from sklearn.model_selection import train_test_split, cross_val_score, KFold, GridSearchCV\n",
        "from sklearn.metrics import mean_squared_error, r2_score,\\\n",
        "    classification_report, confusion_matrix, accuracy_score\n",
        "import scikitplot as skplt\n",
        "\n",
        "data = pd.read_csv(\"UniversalBank.csv\")\n",
        "\n",
        "display(data)\n",
        "\n",
        "# train = pd.read_csv(\"../input/titanic/train.csv\")\n",
        "# test  = pd.read_csv('../input/titanic/test.csv')\n",
        "# train"
      ],
      "metadata": {
        "execution": {
          "iopub.status.busy": "2022-03-16T02:42:51.621587Z",
          "iopub.execute_input": "2022-03-16T02:42:51.622088Z",
          "iopub.status.idle": "2022-03-16T02:42:51.673351Z",
          "shell.execute_reply.started": "2022-03-16T02:42:51.622038Z",
          "shell.execute_reply": "2022-03-16T02:42:51.672328Z"
        },
        "trusted": true,
        "colab": {
          "base_uri": "https://localhost:8080/",
          "height": 467
        },
        "id": "DKNzRYfRnebV",
        "outputId": "da66cab3-c308-44fc-d26f-19d887fbeb6e"
      },
      "execution_count": 3,
      "outputs": [
        {
          "output_type": "display_data",
          "data": {
            "text/plain": [
              "        ID  Age  Experience  Income  ZIP Code  Family  CCAvg  Education  \\\n",
              "0        1   25           1      49     91107       4    1.6          1   \n",
              "1        2   45          19      34     90089       3    1.5          1   \n",
              "2        3   39          15      11     94720       1    1.0          1   \n",
              "3        4   35           9     100     94112       1    2.7          2   \n",
              "4        5   35           8      45     91330       4    1.0          2   \n",
              "...    ...  ...         ...     ...       ...     ...    ...        ...   \n",
              "4995  4996   29           3      40     92697       1    1.9          3   \n",
              "4996  4997   30           4      15     92037       4    0.4          1   \n",
              "4997  4998   63          39      24     93023       2    0.3          3   \n",
              "4998  4999   65          40      49     90034       3    0.5          2   \n",
              "4999  5000   28           4      83     92612       3    0.8          1   \n",
              "\n",
              "      Mortgage  Personal Loan  Securities Account  CD Account  Online  \\\n",
              "0            0              0                   1           0       0   \n",
              "1            0              0                   1           0       0   \n",
              "2            0              0                   0           0       0   \n",
              "3            0              0                   0           0       0   \n",
              "4            0              0                   0           0       0   \n",
              "...        ...            ...                 ...         ...     ...   \n",
              "4995         0              0                   0           0       1   \n",
              "4996        85              0                   0           0       1   \n",
              "4997         0              0                   0           0       0   \n",
              "4998         0              0                   0           0       1   \n",
              "4999         0              0                   0           0       1   \n",
              "\n",
              "      CreditCard  \n",
              "0              0  \n",
              "1              0  \n",
              "2              0  \n",
              "3              0  \n",
              "4              1  \n",
              "...          ...  \n",
              "4995           0  \n",
              "4996           0  \n",
              "4997           0  \n",
              "4998           0  \n",
              "4999           1  \n",
              "\n",
              "[5000 rows x 14 columns]"
            ],
            "text/html": [
              "\n",
              "  <div id=\"df-25ab20d7-30a1-4e92-9efb-ebf66e8dc2a4\">\n",
              "    <div class=\"colab-df-container\">\n",
              "      <div>\n",
              "<style scoped>\n",
              "    .dataframe tbody tr th:only-of-type {\n",
              "        vertical-align: middle;\n",
              "    }\n",
              "\n",
              "    .dataframe tbody tr th {\n",
              "        vertical-align: top;\n",
              "    }\n",
              "\n",
              "    .dataframe thead th {\n",
              "        text-align: right;\n",
              "    }\n",
              "</style>\n",
              "<table border=\"1\" class=\"dataframe\">\n",
              "  <thead>\n",
              "    <tr style=\"text-align: right;\">\n",
              "      <th></th>\n",
              "      <th>ID</th>\n",
              "      <th>Age</th>\n",
              "      <th>Experience</th>\n",
              "      <th>Income</th>\n",
              "      <th>ZIP Code</th>\n",
              "      <th>Family</th>\n",
              "      <th>CCAvg</th>\n",
              "      <th>Education</th>\n",
              "      <th>Mortgage</th>\n",
              "      <th>Personal Loan</th>\n",
              "      <th>Securities Account</th>\n",
              "      <th>CD Account</th>\n",
              "      <th>Online</th>\n",
              "      <th>CreditCard</th>\n",
              "    </tr>\n",
              "  </thead>\n",
              "  <tbody>\n",
              "    <tr>\n",
              "      <th>0</th>\n",
              "      <td>1</td>\n",
              "      <td>25</td>\n",
              "      <td>1</td>\n",
              "      <td>49</td>\n",
              "      <td>91107</td>\n",
              "      <td>4</td>\n",
              "      <td>1.6</td>\n",
              "      <td>1</td>\n",
              "      <td>0</td>\n",
              "      <td>0</td>\n",
              "      <td>1</td>\n",
              "      <td>0</td>\n",
              "      <td>0</td>\n",
              "      <td>0</td>\n",
              "    </tr>\n",
              "    <tr>\n",
              "      <th>1</th>\n",
              "      <td>2</td>\n",
              "      <td>45</td>\n",
              "      <td>19</td>\n",
              "      <td>34</td>\n",
              "      <td>90089</td>\n",
              "      <td>3</td>\n",
              "      <td>1.5</td>\n",
              "      <td>1</td>\n",
              "      <td>0</td>\n",
              "      <td>0</td>\n",
              "      <td>1</td>\n",
              "      <td>0</td>\n",
              "      <td>0</td>\n",
              "      <td>0</td>\n",
              "    </tr>\n",
              "    <tr>\n",
              "      <th>2</th>\n",
              "      <td>3</td>\n",
              "      <td>39</td>\n",
              "      <td>15</td>\n",
              "      <td>11</td>\n",
              "      <td>94720</td>\n",
              "      <td>1</td>\n",
              "      <td>1.0</td>\n",
              "      <td>1</td>\n",
              "      <td>0</td>\n",
              "      <td>0</td>\n",
              "      <td>0</td>\n",
              "      <td>0</td>\n",
              "      <td>0</td>\n",
              "      <td>0</td>\n",
              "    </tr>\n",
              "    <tr>\n",
              "      <th>3</th>\n",
              "      <td>4</td>\n",
              "      <td>35</td>\n",
              "      <td>9</td>\n",
              "      <td>100</td>\n",
              "      <td>94112</td>\n",
              "      <td>1</td>\n",
              "      <td>2.7</td>\n",
              "      <td>2</td>\n",
              "      <td>0</td>\n",
              "      <td>0</td>\n",
              "      <td>0</td>\n",
              "      <td>0</td>\n",
              "      <td>0</td>\n",
              "      <td>0</td>\n",
              "    </tr>\n",
              "    <tr>\n",
              "      <th>4</th>\n",
              "      <td>5</td>\n",
              "      <td>35</td>\n",
              "      <td>8</td>\n",
              "      <td>45</td>\n",
              "      <td>91330</td>\n",
              "      <td>4</td>\n",
              "      <td>1.0</td>\n",
              "      <td>2</td>\n",
              "      <td>0</td>\n",
              "      <td>0</td>\n",
              "      <td>0</td>\n",
              "      <td>0</td>\n",
              "      <td>0</td>\n",
              "      <td>1</td>\n",
              "    </tr>\n",
              "    <tr>\n",
              "      <th>...</th>\n",
              "      <td>...</td>\n",
              "      <td>...</td>\n",
              "      <td>...</td>\n",
              "      <td>...</td>\n",
              "      <td>...</td>\n",
              "      <td>...</td>\n",
              "      <td>...</td>\n",
              "      <td>...</td>\n",
              "      <td>...</td>\n",
              "      <td>...</td>\n",
              "      <td>...</td>\n",
              "      <td>...</td>\n",
              "      <td>...</td>\n",
              "      <td>...</td>\n",
              "    </tr>\n",
              "    <tr>\n",
              "      <th>4995</th>\n",
              "      <td>4996</td>\n",
              "      <td>29</td>\n",
              "      <td>3</td>\n",
              "      <td>40</td>\n",
              "      <td>92697</td>\n",
              "      <td>1</td>\n",
              "      <td>1.9</td>\n",
              "      <td>3</td>\n",
              "      <td>0</td>\n",
              "      <td>0</td>\n",
              "      <td>0</td>\n",
              "      <td>0</td>\n",
              "      <td>1</td>\n",
              "      <td>0</td>\n",
              "    </tr>\n",
              "    <tr>\n",
              "      <th>4996</th>\n",
              "      <td>4997</td>\n",
              "      <td>30</td>\n",
              "      <td>4</td>\n",
              "      <td>15</td>\n",
              "      <td>92037</td>\n",
              "      <td>4</td>\n",
              "      <td>0.4</td>\n",
              "      <td>1</td>\n",
              "      <td>85</td>\n",
              "      <td>0</td>\n",
              "      <td>0</td>\n",
              "      <td>0</td>\n",
              "      <td>1</td>\n",
              "      <td>0</td>\n",
              "    </tr>\n",
              "    <tr>\n",
              "      <th>4997</th>\n",
              "      <td>4998</td>\n",
              "      <td>63</td>\n",
              "      <td>39</td>\n",
              "      <td>24</td>\n",
              "      <td>93023</td>\n",
              "      <td>2</td>\n",
              "      <td>0.3</td>\n",
              "      <td>3</td>\n",
              "      <td>0</td>\n",
              "      <td>0</td>\n",
              "      <td>0</td>\n",
              "      <td>0</td>\n",
              "      <td>0</td>\n",
              "      <td>0</td>\n",
              "    </tr>\n",
              "    <tr>\n",
              "      <th>4998</th>\n",
              "      <td>4999</td>\n",
              "      <td>65</td>\n",
              "      <td>40</td>\n",
              "      <td>49</td>\n",
              "      <td>90034</td>\n",
              "      <td>3</td>\n",
              "      <td>0.5</td>\n",
              "      <td>2</td>\n",
              "      <td>0</td>\n",
              "      <td>0</td>\n",
              "      <td>0</td>\n",
              "      <td>0</td>\n",
              "      <td>1</td>\n",
              "      <td>0</td>\n",
              "    </tr>\n",
              "    <tr>\n",
              "      <th>4999</th>\n",
              "      <td>5000</td>\n",
              "      <td>28</td>\n",
              "      <td>4</td>\n",
              "      <td>83</td>\n",
              "      <td>92612</td>\n",
              "      <td>3</td>\n",
              "      <td>0.8</td>\n",
              "      <td>1</td>\n",
              "      <td>0</td>\n",
              "      <td>0</td>\n",
              "      <td>0</td>\n",
              "      <td>0</td>\n",
              "      <td>1</td>\n",
              "      <td>1</td>\n",
              "    </tr>\n",
              "  </tbody>\n",
              "</table>\n",
              "<p>5000 rows × 14 columns</p>\n",
              "</div>\n",
              "      <button class=\"colab-df-convert\" onclick=\"convertToInteractive('df-25ab20d7-30a1-4e92-9efb-ebf66e8dc2a4')\"\n",
              "              title=\"Convert this dataframe to an interactive table.\"\n",
              "              style=\"display:none;\">\n",
              "        \n",
              "  <svg xmlns=\"http://www.w3.org/2000/svg\" height=\"24px\"viewBox=\"0 0 24 24\"\n",
              "       width=\"24px\">\n",
              "    <path d=\"M0 0h24v24H0V0z\" fill=\"none\"/>\n",
              "    <path d=\"M18.56 5.44l.94 2.06.94-2.06 2.06-.94-2.06-.94-.94-2.06-.94 2.06-2.06.94zm-11 1L8.5 8.5l.94-2.06 2.06-.94-2.06-.94L8.5 2.5l-.94 2.06-2.06.94zm10 10l.94 2.06.94-2.06 2.06-.94-2.06-.94-.94-2.06-.94 2.06-2.06.94z\"/><path d=\"M17.41 7.96l-1.37-1.37c-.4-.4-.92-.59-1.43-.59-.52 0-1.04.2-1.43.59L10.3 9.45l-7.72 7.72c-.78.78-.78 2.05 0 2.83L4 21.41c.39.39.9.59 1.41.59.51 0 1.02-.2 1.41-.59l7.78-7.78 2.81-2.81c.8-.78.8-2.07 0-2.86zM5.41 20L4 18.59l7.72-7.72 1.47 1.35L5.41 20z\"/>\n",
              "  </svg>\n",
              "      </button>\n",
              "      \n",
              "  <style>\n",
              "    .colab-df-container {\n",
              "      display:flex;\n",
              "      flex-wrap:wrap;\n",
              "      gap: 12px;\n",
              "    }\n",
              "\n",
              "    .colab-df-convert {\n",
              "      background-color: #E8F0FE;\n",
              "      border: none;\n",
              "      border-radius: 50%;\n",
              "      cursor: pointer;\n",
              "      display: none;\n",
              "      fill: #1967D2;\n",
              "      height: 32px;\n",
              "      padding: 0 0 0 0;\n",
              "      width: 32px;\n",
              "    }\n",
              "\n",
              "    .colab-df-convert:hover {\n",
              "      background-color: #E2EBFA;\n",
              "      box-shadow: 0px 1px 2px rgba(60, 64, 67, 0.3), 0px 1px 3px 1px rgba(60, 64, 67, 0.15);\n",
              "      fill: #174EA6;\n",
              "    }\n",
              "\n",
              "    [theme=dark] .colab-df-convert {\n",
              "      background-color: #3B4455;\n",
              "      fill: #D2E3FC;\n",
              "    }\n",
              "\n",
              "    [theme=dark] .colab-df-convert:hover {\n",
              "      background-color: #434B5C;\n",
              "      box-shadow: 0px 1px 3px 1px rgba(0, 0, 0, 0.15);\n",
              "      filter: drop-shadow(0px 1px 2px rgba(0, 0, 0, 0.3));\n",
              "      fill: #FFFFFF;\n",
              "    }\n",
              "  </style>\n",
              "\n",
              "      <script>\n",
              "        const buttonEl =\n",
              "          document.querySelector('#df-25ab20d7-30a1-4e92-9efb-ebf66e8dc2a4 button.colab-df-convert');\n",
              "        buttonEl.style.display =\n",
              "          google.colab.kernel.accessAllowed ? 'block' : 'none';\n",
              "\n",
              "        async function convertToInteractive(key) {\n",
              "          const element = document.querySelector('#df-25ab20d7-30a1-4e92-9efb-ebf66e8dc2a4');\n",
              "          const dataTable =\n",
              "            await google.colab.kernel.invokeFunction('convertToInteractive',\n",
              "                                                     [key], {});\n",
              "          if (!dataTable) return;\n",
              "\n",
              "          const docLinkHtml = 'Like what you see? Visit the ' +\n",
              "            '<a target=\"_blank\" href=https://colab.research.google.com/notebooks/data_table.ipynb>data table notebook</a>'\n",
              "            + ' to learn more about interactive tables.';\n",
              "          element.innerHTML = '';\n",
              "          dataTable['output_type'] = 'display_data';\n",
              "          await google.colab.output.renderOutput(dataTable, element);\n",
              "          const docLink = document.createElement('div');\n",
              "          docLink.innerHTML = docLinkHtml;\n",
              "          element.appendChild(docLink);\n",
              "        }\n",
              "      </script>\n",
              "    </div>\n",
              "  </div>\n",
              "  "
            ]
          },
          "metadata": {}
        }
      ]
    },
    {
      "cell_type": "markdown",
      "source": [
        "# **Goal**: Can you determine whether a customer (given first 13 features) will open a credit card with the bank?"
      ],
      "metadata": {
        "id": "00zwr23mnebZ"
      }
    },
    {
      "cell_type": "markdown",
      "source": [
        "## split train/test data"
      ],
      "metadata": {
        "id": "b99yNP_qneba"
      }
    },
    {
      "cell_type": "code",
      "source": [
        "X = data.iloc[:,1:13].values\n",
        "y = data.iloc[:, -1].values\n",
        "X_train, X_test, y_train, y_test = train_test_split(X, y, test_size = 0.25, random_state = 0)"
      ],
      "metadata": {
        "execution": {
          "iopub.status.busy": "2022-03-16T02:42:51.675788Z",
          "iopub.execute_input": "2022-03-16T02:42:51.676501Z",
          "iopub.status.idle": "2022-03-16T02:42:51.688707Z",
          "shell.execute_reply.started": "2022-03-16T02:42:51.676429Z",
          "shell.execute_reply": "2022-03-16T02:42:51.687716Z"
        },
        "trusted": true,
        "id": "L9LWcaTkneba"
      },
      "execution_count": 4,
      "outputs": []
    },
    {
      "cell_type": "code",
      "source": [
        "plt.hist(y)\n",
        "plt.title('credit card occupation')\n",
        "plt.show()"
      ],
      "metadata": {
        "execution": {
          "iopub.status.busy": "2022-03-16T02:42:51.691040Z",
          "iopub.execute_input": "2022-03-16T02:42:51.691600Z",
          "iopub.status.idle": "2022-03-16T02:42:51.927895Z",
          "shell.execute_reply.started": "2022-03-16T02:42:51.691538Z",
          "shell.execute_reply": "2022-03-16T02:42:51.926989Z"
        },
        "trusted": true,
        "colab": {
          "base_uri": "https://localhost:8080/",
          "height": 281
        },
        "id": "nd1WRxANnebb",
        "outputId": "b323d0ba-c8c5-4559-c65f-1f435bd25859"
      },
      "execution_count": 5,
      "outputs": [
        {
          "output_type": "display_data",
          "data": {
            "text/plain": [
              "<Figure size 432x288 with 1 Axes>"
            ],
            "image/png": "[encoded data removed]"
          },
          "metadata": {
            "needs_background": "light"
          }
        }
      ]
    },
    {
      "cell_type": "markdown",
      "source": [
        "# Support Vector Machine \n",
        "**Support Vector Machines is a classier method that performs classification tasks by constructing hyperplanes in a multidimensional space that separates cases of different class labels. SVM supports both regression and classification tasks and can handle multiple continuous and categorical variables \n",
        "**"
      ],
      "metadata": {
        "id": "jHeRy7Vznebc"
      }
    },
    {
      "cell_type": "markdown",
      "source": [
        "**Libraries**"
      ],
      "metadata": {
        "id": "xzlxpzVLnebd"
      }
    },
    {
      "cell_type": "code",
      "source": [
        "from sklearn.svm import SVC"
      ],
      "metadata": {
        "execution": {
          "iopub.status.busy": "2022-03-16T02:42:51.929394Z",
          "iopub.execute_input": "2022-03-16T02:42:51.929983Z",
          "iopub.status.idle": "2022-03-16T02:42:51.935562Z",
          "shell.execute_reply.started": "2022-03-16T02:42:51.929934Z",
          "shell.execute_reply": "2022-03-16T02:42:51.934398Z"
        },
        "trusted": true,
        "id": "jQTP4xTinebe"
      },
      "execution_count": 6,
      "outputs": []
    },
    {
      "cell_type": "markdown",
      "source": [
        "**Model and Accuracy**"
      ],
      "metadata": {
        "id": "A8jPwc9Pnebf"
      }
    },
    {
      "cell_type": "code",
      "source": [
        "svmc = SVC(kernel = 'rbf', random_state = 0)\n",
        "svmc.fit(X_train, y_train)\n",
        "\n",
        "# print(classification_report(y_test,y_pred))\n",
        "print( svmc.score(X_test, y_test) )\n",
        "y_test_pred = svmc.predict(X_test)\n",
        "skplt.metrics.plot_confusion_matrix(y_test, y_test_pred)"
      ],
      "metadata": {
        "execution": {
          "iopub.status.busy": "2022-03-16T02:42:51.939592Z",
          "iopub.execute_input": "2022-03-16T02:42:51.940258Z",
          "iopub.status.idle": "2022-03-16T02:42:52.894591Z",
          "shell.execute_reply.started": "2022-03-16T02:42:51.940206Z",
          "shell.execute_reply": "2022-03-16T02:42:52.893712Z"
        },
        "trusted": true,
        "colab": {
          "base_uri": "https://localhost:8080/",
          "height": 330
        },
        "id": "g6QWlTCinebg",
        "outputId": "b97bb18a-f9f3-4c07-f1f9-9c56ece4da77"
      },
      "execution_count": 7,
      "outputs": [
        {
          "output_type": "stream",
          "name": "stdout",
          "text": [
            "0.7008\n"
          ]
        },
        {
          "output_type": "execute_result",
          "data": {
            "text/plain": [
              "<matplotlib.axes._subplots.AxesSubplot at 0x7fea343f0610>"
            ]
          },
          "metadata": {},
          "execution_count": 7
        },
        {
          "output_type": "display_data",
          "data": {
            "text/plain": [
              "<Figure size 432x288 with 2 Axes>"
            ],
            "image/png": "[encoded data removed]"
          },
          "metadata": {
            "needs_background": "light"
          }
        }
      ]
    },
    {
      "cell_type": "markdown",
      "source": [
        "SVM fails to identify all 374 potential customers "
      ],
      "metadata": {
        "id": "n2Foy6pBiuCa"
      }
    },
    {
      "cell_type": "markdown",
      "source": [
        "# Sklearn Gradient Boosting\n",
        "**Gradient boosting is an alogithm under supervised machine learning, boosting means converting weak into strong.**"
      ],
      "metadata": {
        "id": "TdULnRJlnebh"
      }
    },
    {
      "cell_type": "markdown",
      "source": [
        "**Libraries**"
      ],
      "metadata": {
        "id": "ad2YeAFfnebi"
      }
    },
    {
      "cell_type": "code",
      "source": [
        "from sklearn.ensemble import GradientBoostingClassifier\n",
        "# https://scikit-learn.org/stable/modules/generated/sklearn.ensemble.GradientBoostingClassifier.html#sklearn.ensemble.GradientBoostingClassifier"
      ],
      "metadata": {
        "execution": {
          "iopub.status.busy": "2022-03-16T02:42:52.896519Z",
          "iopub.execute_input": "2022-03-16T02:42:52.896798Z",
          "iopub.status.idle": "2022-03-16T02:42:53.043388Z",
          "shell.execute_reply.started": "2022-03-16T02:42:52.896770Z",
          "shell.execute_reply": "2022-03-16T02:42:53.042397Z"
        },
        "trusted": true,
        "id": "eLYzQ7oqnebi"
      },
      "execution_count": 8,
      "outputs": []
    },
    {
      "cell_type": "markdown",
      "source": [
        "**Model and Accuracy**"
      ],
      "metadata": {
        "id": "Sj5OoOJcnebj"
      }
    },
    {
      "cell_type": "code",
      "source": [
        "\n",
        "# sc_X = StandardScaler()\n",
        "# X_train = sc_X.fit_transform(X_train)\n",
        "# X_test = sc_X.transform(X_test)\n",
        "gbk = GradientBoostingClassifier(n_estimators=200, learning_rate=0.05, max_depth=7, random_state=0)\n",
        "gbk.fit(X_train, y_train)\n",
        "gbk.score(X_test, y_test)"
      ],
      "metadata": {
        "execution": {
          "iopub.status.busy": "2022-03-16T02:42:53.044698Z",
          "iopub.execute_input": "2022-03-16T02:42:53.045240Z",
          "iopub.status.idle": "2022-03-16T02:42:55.942099Z",
          "shell.execute_reply.started": "2022-03-16T02:42:53.045191Z",
          "shell.execute_reply": "2022-03-16T02:42:55.941328Z"
        },
        "trusted": true,
        "colab": {
          "base_uri": "https://localhost:8080/"
        },
        "id": "uaj_aSW6nebj",
        "outputId": "a10ea9bb-d801-47d9-9b59-531a8bfc8983"
      },
      "execution_count": 9,
      "outputs": [
        {
          "output_type": "execute_result",
          "data": {
            "text/plain": [
              "0.7096"
            ]
          },
          "metadata": {},
          "execution_count": 9
        }
      ]
    },
    {
      "cell_type": "code",
      "source": [
        "y_test_pred = gbk.predict(X_test)\n",
        "skplt.metrics.plot_confusion_matrix(y_test, y_test_pred)"
      ],
      "metadata": {
        "execution": {
          "iopub.status.busy": "2022-03-16T02:42:55.943363Z",
          "iopub.execute_input": "2022-03-16T02:42:55.943972Z",
          "iopub.status.idle": "2022-03-16T02:42:56.153768Z",
          "shell.execute_reply.started": "2022-03-16T02:42:55.943930Z",
          "shell.execute_reply": "2022-03-16T02:42:56.152331Z"
        },
        "trusted": true,
        "colab": {
          "base_uri": "https://localhost:8080/",
          "height": 313
        },
        "id": "GcysysQenebk",
        "outputId": "206fd483-6663-498d-abc3-0ac22d491bf4"
      },
      "execution_count": 10,
      "outputs": [
        {
          "output_type": "execute_result",
          "data": {
            "text/plain": [
              "<matplotlib.axes._subplots.AxesSubplot at 0x7fea33dcbbd0>"
            ]
          },
          "metadata": {},
          "execution_count": 10
        },
        {
          "output_type": "display_data",
          "data": {
            "text/plain": [
              "<Figure size 432x288 with 2 Axes>"
            ],
            "image/png": "[encoded data removed]"
          },
          "metadata": {
            "needs_background": "light"
          }
        }
      ]
    },
    {
      "cell_type": "markdown",
      "source": [
        "Sklearn-GBM identified 61 potential customers "
      ],
      "metadata": {
        "id": "jJkvFt0pmDPt"
      }
    },
    {
      "cell_type": "markdown",
      "source": [
        "# Light GBM"
      ],
      "metadata": {
        "id": "6MBk4-eJnebk"
      }
    },
    {
      "cell_type": "markdown",
      "source": [
        "**LightGBM is a gradient boosting framework that uses tree based learning algorithms. It is designed to be distributed and efficient with the following advantages:**\n",
        "\n",
        "1. Faster training speed and higher efficiency.\n",
        "2. Lower memory usage.\n",
        "3. Better accuracy.\n",
        "4. Support of parallel and GPU learning.\n",
        "5. Capable of handling large-scale data."
      ],
      "metadata": {
        "id": "2agW2jS1nebl"
      }
    },
    {
      "cell_type": "markdown",
      "source": [
        "**Library**"
      ],
      "metadata": {
        "id": "dxqryAM9nebl"
      }
    },
    {
      "cell_type": "code",
      "source": [
        "import lightgbm as lgbm\n",
        "# https://lightgbm.readthedocs.io/en/latest/Python-Intro.html\n",
        "# https://github.com/microsoft/LightGBM\n"
      ],
      "metadata": {
        "execution": {
          "iopub.status.busy": "2022-03-16T02:42:56.155398Z",
          "iopub.execute_input": "2022-03-16T02:42:56.155720Z",
          "iopub.status.idle": "2022-03-16T02:42:56.283506Z",
          "shell.execute_reply.started": "2022-03-16T02:42:56.155689Z",
          "shell.execute_reply": "2022-03-16T02:42:56.282413Z"
        },
        "trusted": true,
        "id": "k7mgk5ygnebm"
      },
      "execution_count": 11,
      "outputs": []
    },
    {
      "cell_type": "markdown",
      "source": [
        "**Model and Accuracy**"
      ],
      "metadata": {
        "id": "wQKmGPR2nebm"
      }
    },
    {
      "cell_type": "code",
      "source": [
        "m_lgb = lgbm.LGBMClassifier(objective='binary', \n",
        "                            n_estimators=200, \n",
        "                            learning_rate=0.05, \n",
        "                            max_depth=7,\n",
        "                            max_bin = 55, \n",
        "                            bagging_fraction = 0.8,\n",
        "                            bagging_freq = 5, \n",
        "                            feature_fraction = 0.8,\n",
        "                            min_data_in_leaf =6, \n",
        "                            silent= -1)\n",
        "# https://github.com/microsoft/LightGBM/blob/master/docs/Parameters.rst\n",
        "eval_set = [(X_train, y_train), (X_test, y_test)]\n",
        "m_lgb.fit(X_train, y_train, eval_set=eval_set, verbose=0)\n",
        "print(m_lgb.score(X_test, y_test))\n",
        "lgbm.plot_metric(m_lgb)\n",
        "y_test_pred = m_lgb.predict(X_test)\n",
        "skplt.metrics.plot_confusion_matrix(y_test, y_test_pred)\n",
        "plt.show()"
      ],
      "metadata": {
        "execution": {
          "iopub.status.busy": "2022-03-16T02:42:56.284723Z",
          "iopub.execute_input": "2022-03-16T02:42:56.284991Z",
          "iopub.status.idle": "2022-03-16T02:42:57.038261Z",
          "shell.execute_reply.started": "2022-03-16T02:42:56.284964Z",
          "shell.execute_reply": "2022-03-16T02:42:57.036897Z"
        },
        "trusted": true,
        "colab": {
          "base_uri": "https://localhost:8080/",
          "height": 608
        },
        "id": "8kwODQvJnebm",
        "outputId": "969e58c4-df44-4915-a2c5-7e36fc71f706"
      },
      "execution_count": 12,
      "outputs": [
        {
          "output_type": "stream",
          "name": "stdout",
          "text": [
            "0.7312\n"
          ]
        },
        {
          "output_type": "execute_result",
          "data": {
            "text/plain": [
              "<matplotlib.axes._subplots.AxesSubplot at 0x7fea32a39110>"
            ]
          },
          "metadata": {},
          "execution_count": 12
        },
        {
          "output_type": "display_data",
          "data": {
            "text/plain": [
              "<Figure size 432x288 with 1 Axes>"
            ],
            "image/png": "[encoded data removed]"
          },
          "metadata": {
            "needs_background": "light"
          }
        },
        {
          "output_type": "display_data",
          "data": {
            "text/plain": [
              "<Figure size 432x288 with 2 Axes>"
            ],
            "image/png": "[encoded data removed]"
          },
          "metadata": {
            "needs_background": "light"
          }
        }
      ]
    },
    {
      "cell_type": "markdown",
      "source": [
        "**LGBM identified 66 potential customers** 👍"
      ],
      "metadata": {
        "id": "M0C4mDVSmQSO"
      }
    },
    {
      "cell_type": "markdown",
      "source": [
        "# **XGBoost**"
      ],
      "metadata": {
        "id": "K-DeYbY-nebn"
      }
    },
    {
      "cell_type": "markdown",
      "source": [
        "**XGBoost is a decision-tree-based ensemble method that uses gradient boosting framework. It is a perfect combination of software and hardware optimization techniques to yield superior results.**"
      ],
      "metadata": {
        "id": "15184-cQnebo"
      }
    },
    {
      "cell_type": "markdown",
      "source": [
        "**Library and Data**"
      ],
      "metadata": {
        "id": "PYZDNKVdnebo"
      }
    },
    {
      "cell_type": "code",
      "source": [
        "import xgboost as xgb\n",
        "# https://xgboost.readthedocs.io/en/stable/python/index.html"
      ],
      "metadata": {
        "execution": {
          "iopub.status.busy": "2022-03-16T02:42:57.039970Z",
          "iopub.execute_input": "2022-03-16T02:42:57.040282Z",
          "iopub.status.idle": "2022-03-16T02:42:58.156938Z",
          "shell.execute_reply.started": "2022-03-16T02:42:57.040250Z",
          "shell.execute_reply": "2022-03-16T02:42:58.155155Z"
        },
        "trusted": true,
        "id": "GEOOElnFnebo"
      },
      "execution_count": 13,
      "outputs": []
    },
    {
      "cell_type": "markdown",
      "source": [
        "**Model and Accuracy**"
      ],
      "metadata": {
        "id": "8rkdle4onebp"
      }
    },
    {
      "cell_type": "code",
      "source": [
        "m_xgb = xgb.XGBClassifier(objective='binary:logistic', \n",
        "                          n_estimators=200, \n",
        "                          learning_rate=0.05, \n",
        "                          max_depth=7, \n",
        "                          colsample_bytree=0.8,\n",
        "                          random_state =7, \n",
        "                          nthread = -1)\n",
        "eval_set = [(X_train, y_train), (X_test, y_test)]\n",
        "m_xgb.fit(X_train, y_train, eval_set=eval_set, eval_metric='logloss', verbose=0)\n",
        "print(m_xgb.score(X_test, y_test))\n",
        "res = m_xgb.evals_result()\n",
        "plt.plot(res['validation_0']['logloss'], label='Train')\n",
        "plt.plot(res['validation_1']['logloss'], label='valid_1')\n",
        "plt.legend()\n",
        "plt.grid()\n",
        "y_test_pred = m_xgb.predict(X_test)\n",
        "skplt.metrics.plot_confusion_matrix(y_test, y_test_pred)"
      ],
      "metadata": {
        "execution": {
          "iopub.status.busy": "2022-03-16T02:43:40.911673Z",
          "iopub.execute_input": "2022-03-16T02:43:40.911992Z",
          "iopub.status.idle": "2022-03-16T02:43:42.383821Z",
          "shell.execute_reply.started": "2022-03-16T02:43:40.911965Z",
          "shell.execute_reply": "2022-03-16T02:43:42.382802Z"
        },
        "trusted": true,
        "colab": {
          "base_uri": "https://localhost:8080/",
          "height": 578
        },
        "id": "yjKo-tI5nebp",
        "outputId": "57a7a0af-4e47-461a-a175-50de961564b0"
      },
      "execution_count": 14,
      "outputs": [
        {
          "output_type": "stream",
          "name": "stdout",
          "text": [
            "0.7288\n"
          ]
        },
        {
          "output_type": "execute_result",
          "data": {
            "text/plain": [
              "<matplotlib.axes._subplots.AxesSubplot at 0x7fea2956ac90>"
            ]
          },
          "metadata": {},
          "execution_count": 14
        },
        {
          "output_type": "display_data",
          "data": {
            "text/plain": [
              "<Figure size 432x288 with 1 Axes>"
            ],
            "image/png": "[encoded data removed]"
          },
          "metadata": {
            "needs_background": "light"
          }
        },
        {
          "output_type": "display_data",
          "data": {
            "text/plain": [
              "<Figure size 432x288 with 2 Axes>"
            ],
            "image/png": "[encoded data removed]"
          },
          "metadata": {
            "needs_background": "light"
          }
        }
      ]
    },
    {
      "cell_type": "markdown",
      "source": [
        "# Catboost"
      ],
      "metadata": {
        "id": "cdm_I3j8nebp"
      }
    },
    {
      "cell_type": "markdown",
      "source": [
        "**Catboost is a type of gradient boosting algorithms which can  automatically deal with categorical variables without showing the type conversion error, which helps you to focus on tuning your model better rather than sorting out trivial errors.Make sure you handle missing data well before you proceed with the implementation.\n",
        "**"
      ],
      "metadata": {
        "id": "wTfoZauonebq"
      }
    },
    {
      "cell_type": "code",
      "source": [
        "pip install catboost"
      ],
      "metadata": {
        "colab": {
          "base_uri": "https://localhost:8080/"
        },
        "id": "Iun4-p_TraqE",
        "outputId": "c47d4048-76df-47c5-8de2-e8829d540009"
      },
      "execution_count": 15,
      "outputs": [
        {
          "output_type": "stream",
          "name": "stdout",
          "text": [
            "Collecting catboost\n",
            "  Downloading catboost-1.0.4-cp37-none-manylinux1_x86_64.whl (76.1 MB)\n",
            "\u001b[K     |████████████████████████████████| 76.1 MB 54 kB/s \n",
            "\u001b[?25hRequirement already satisfied: scipy in /usr/local/lib/python3.7/dist-packages (from catboost) (1.4.1)\n",
            "Requirement already satisfied: matplotlib in /usr/local/lib/python3.7/dist-packages (from catboost) (3.2.2)\n",
            "Requirement already satisfied: pandas>=0.24.0 in /usr/local/lib/python3.7/dist-packages (from catboost) (1.3.5)\n",
            "Requirement already satisfied: numpy>=1.16.0 in /usr/local/lib/python3.7/dist-packages (from catboost) (1.21.5)\n",
            "Requirement already satisfied: six in /usr/local/lib/python3.7/dist-packages (from catboost) (1.15.0)\n",
            "Requirement already satisfied: graphviz in /usr/local/lib/python3.7/dist-packages (from catboost) (0.10.1)\n",
            "Requirement already satisfied: plotly in /usr/local/lib/python3.7/dist-packages (from catboost) (5.5.0)\n",
            "Requirement already satisfied: pytz>=2017.3 in /usr/local/lib/python3.7/dist-packages (from pandas>=0.24.0->catboost) (2018.9)\n",
            "Requirement already satisfied: python-dateutil>=2.7.3 in /usr/local/lib/python3.7/dist-packages (from pandas>=0.24.0->catboost) (2.8.2)\n",
            "Requirement already satisfied: kiwisolver>=1.0.1 in /usr/local/lib/python3.7/dist-packages (from matplotlib->catboost) (1.3.2)\n",
            "Requirement already satisfied: pyparsing!=2.0.4,!=2.1.2,!=2.1.6,>=2.0.1 in /usr/local/lib/python3.7/dist-packages (from matplotlib->catboost) (3.0.7)\n",
            "Requirement already satisfied: cycler>=0.10 in /usr/local/lib/python3.7/dist-packages (from matplotlib->catboost) (0.11.0)\n",
            "Requirement already satisfied: tenacity>=6.2.0 in /usr/local/lib/python3.7/dist-packages (from plotly->catboost) (8.0.1)\n",
            "Installing collected packages: catboost\n",
            "Successfully installed catboost-1.0.4\n"
          ]
        }
      ]
    },
    {
      "cell_type": "code",
      "source": [
        "import catboost as cgb\n",
        "# https://catboost.ai/en/docs/concepts/python-quickstart"
      ],
      "metadata": {
        "execution": {
          "iopub.status.busy": "2022-03-16T02:42:59.635194Z",
          "iopub.execute_input": "2022-03-16T02:42:59.635556Z",
          "iopub.status.idle": "2022-03-16T02:42:59.779086Z",
          "shell.execute_reply.started": "2022-03-16T02:42:59.635525Z",
          "shell.execute_reply": "2022-03-16T02:42:59.777848Z"
        },
        "trusted": true,
        "id": "IQ7BMnr4nebq"
      },
      "execution_count": 16,
      "outputs": []
    },
    {
      "cell_type": "code",
      "source": [
        "m_cgb = cgb.CatBoostClassifier(n_estimators=200,\n",
        "                               learning_rate=0.05,\n",
        "                               max_depth=7,\n",
        "                               min_data_in_leaf= 2, \n",
        "                               colsample_bylevel=0.8,\n",
        "                               random_state =7)\n",
        "eval_set = [(X_test, y_test)]\n",
        "m_cgb.fit(X_train, y_train, eval_set=eval_set,  verbose=0)\n",
        "\n",
        "print(m_cgb.score(X_test, y_test))\n"
      ],
      "metadata": {
        "execution": {
          "iopub.status.busy": "2022-03-16T02:43:57.815598Z",
          "iopub.execute_input": "2022-03-16T02:43:57.815904Z",
          "iopub.status.idle": "2022-03-16T02:43:58.775253Z",
          "shell.execute_reply.started": "2022-03-16T02:43:57.815876Z",
          "shell.execute_reply": "2022-03-16T02:43:58.774410Z"
        },
        "trusted": true,
        "colab": {
          "base_uri": "https://localhost:8080/"
        },
        "id": "mCKdmJMYnebq",
        "outputId": "40a84ea0-c6f0-485d-de69-629cfd03ce30"
      },
      "execution_count": 17,
      "outputs": [
        {
          "output_type": "stream",
          "name": "stdout",
          "text": [
            "0.7416\n"
          ]
        }
      ]
    },
    {
      "cell_type": "code",
      "source": [
        "%%capture cap --no-stderr\n",
        "m_cgb.fit(X_train, y_train, eval_set=eval_set,  verbose=1)\n"
      ],
      "metadata": {
        "execution": {
          "iopub.status.busy": "2022-03-16T02:44:04.498671Z",
          "iopub.execute_input": "2022-03-16T02:44:04.499173Z",
          "iopub.status.idle": "2022-03-16T02:44:05.505082Z",
          "shell.execute_reply.started": "2022-03-16T02:44:04.499124Z",
          "shell.execute_reply": "2022-03-16T02:44:05.504193Z"
        },
        "trusted": true,
        "id": "Dly2M_Q5nebq"
      },
      "execution_count": null,
      "outputs": []
    },
    {
      "cell_type": "code",
      "source": [
        "epoc = cap.stdout.split('\\n')\n",
        "import re\n",
        "loss = np.zeros((200,2))\n",
        "for i in range(200):\n",
        "    temp = re.split('\\t| ', epoc[i])\n",
        "    loss[i,0]= temp[2] # train loss\n",
        "    loss[i,1]= temp[4] # test loss\n",
        "plt.plot(loss[:,0], label='Train')\n",
        "plt.plot(loss[:,1], label='valid_1')\n",
        "plt.legend()\n",
        "plt.grid()\n",
        "y_test_pred = m_cgb.predict(X_test)\n",
        "skplt.metrics.plot_confusion_matrix(y_test, y_test_pred)"
      ],
      "metadata": {
        "execution": {
          "iopub.status.busy": "2022-03-16T02:44:06.975778Z",
          "iopub.execute_input": "2022-03-16T02:44:06.976375Z",
          "iopub.status.idle": "2022-03-16T02:44:07.389245Z",
          "shell.execute_reply.started": "2022-03-16T02:44:06.976315Z",
          "shell.execute_reply": "2022-03-16T02:44:07.387890Z"
        },
        "trusted": true,
        "colab": {
          "base_uri": "https://localhost:8080/",
          "height": 235
        },
        "id": "CxIXygm6nebr",
        "outputId": "3e17909f-69cc-45be-8645-203030b680cf"
      },
      "execution_count": 19,
      "outputs": [
        {
          "output_type": "error",
          "ename": "IndexError",
          "evalue": "ignored",
          "traceback": [
            "\u001b[0;31m---------------------------------------------------------------------------\u001b[0m",
            "\u001b[0;31mIndexError\u001b[0m                                Traceback (most recent call last)",
            "\u001b[0;32m<ipython-input-19-e5cb549495ee>\u001b[0m in \u001b[0;36m<module>\u001b[0;34m()\u001b[0m\n\u001b[1;32m      4\u001b[0m \u001b[0;32mfor\u001b[0m \u001b[0mi\u001b[0m \u001b[0;32min\u001b[0m \u001b[0mrange\u001b[0m\u001b[0;34m(\u001b[0m\u001b[0;36m200\u001b[0m\u001b[0;34m)\u001b[0m\u001b[0;34m:\u001b[0m\u001b[0;34m\u001b[0m\u001b[0;34m\u001b[0m\u001b[0m\n\u001b[1;32m      5\u001b[0m     \u001b[0mtemp\u001b[0m \u001b[0;34m=\u001b[0m \u001b[0mre\u001b[0m\u001b[0;34m.\u001b[0m\u001b[0msplit\u001b[0m\u001b[0;34m(\u001b[0m\u001b[0;34m'\\t| '\u001b[0m\u001b[0;34m,\u001b[0m \u001b[0mepoc\u001b[0m\u001b[0;34m[\u001b[0m\u001b[0mi\u001b[0m\u001b[0;34m]\u001b[0m\u001b[0;34m)\u001b[0m\u001b[0;34m\u001b[0m\u001b[0;34m\u001b[0m\u001b[0m\n\u001b[0;32m----> 6\u001b[0;31m     \u001b[0mloss\u001b[0m\u001b[0;34m[\u001b[0m\u001b[0mi\u001b[0m\u001b[0;34m,\u001b[0m\u001b[0;36m0\u001b[0m\u001b[0;34m]\u001b[0m\u001b[0;34m=\u001b[0m \u001b[0mtemp\u001b[0m\u001b[0;34m[\u001b[0m\u001b[0;36m2\u001b[0m\u001b[0;34m]\u001b[0m \u001b[0;31m# train loss\u001b[0m\u001b[0;34m\u001b[0m\u001b[0;34m\u001b[0m\u001b[0m\n\u001b[0m\u001b[1;32m      7\u001b[0m     \u001b[0mloss\u001b[0m\u001b[0;34m[\u001b[0m\u001b[0mi\u001b[0m\u001b[0;34m,\u001b[0m\u001b[0;36m1\u001b[0m\u001b[0;34m]\u001b[0m\u001b[0;34m=\u001b[0m \u001b[0mtemp\u001b[0m\u001b[0;34m[\u001b[0m\u001b[0;36m4\u001b[0m\u001b[0;34m]\u001b[0m \u001b[0;31m# test loss\u001b[0m\u001b[0;34m\u001b[0m\u001b[0;34m\u001b[0m\u001b[0m\n\u001b[1;32m      8\u001b[0m \u001b[0mplt\u001b[0m\u001b[0;34m.\u001b[0m\u001b[0mplot\u001b[0m\u001b[0;34m(\u001b[0m\u001b[0mloss\u001b[0m\u001b[0;34m[\u001b[0m\u001b[0;34m:\u001b[0m\u001b[0;34m,\u001b[0m\u001b[0;36m0\u001b[0m\u001b[0;34m]\u001b[0m\u001b[0;34m,\u001b[0m \u001b[0mlabel\u001b[0m\u001b[0;34m=\u001b[0m\u001b[0;34m'Train'\u001b[0m\u001b[0;34m)\u001b[0m\u001b[0;34m\u001b[0m\u001b[0;34m\u001b[0m\u001b[0m\n",
            "\u001b[0;31mIndexError\u001b[0m: list index out of range"
          ]
        }
      ]
    },
    {
      "cell_type": "markdown",
      "source": [
        "# Bonus Question: Why GBM only identified around 60 out of 374 customers in the test data set? Can you help the bank to improve?"
      ],
      "metadata": {
        "id": "AAUww25hmiEG"
      }
    },
    {
      "cell_type": "markdown",
      "source": [
        "Hint: Remember the classes are very imblanced 70% 0's, 30% 1's"
      ],
      "metadata": {
        "id": "ch117ueMm57Z"
      }
    }
  ]
}